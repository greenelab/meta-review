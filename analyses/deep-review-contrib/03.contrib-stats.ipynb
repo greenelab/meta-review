{
 "cells": [
  {
   "cell_type": "markdown",
   "metadata": {},
   "source": [
    "# Generate Deep Review stats for templated use in the Meta Review"
   ]
  },
  {
   "cell_type": "code",
   "execution_count": 1,
   "metadata": {},
   "outputs": [],
   "source": [
    "import collections\n",
    "import datetime\n",
    "import json\n",
    "import pathlib\n",
    "\n",
    "import pandas\n",
    "import requests"
   ]
  },
  {
   "cell_type": "code",
   "execution_count": 2,
   "metadata": {},
   "outputs": [],
   "source": [
    "stats = collections.OrderedDict()\n",
    "stats['creation_time_utc'] = datetime.datetime.utcnow().isoformat()"
   ]
  },
  {
   "cell_type": "markdown",
   "metadata": {},
   "source": [
    "## Deep Review git repository stats"
   ]
  },
  {
   "cell_type": "code",
   "execution_count": 3,
   "metadata": {},
   "outputs": [
    {
     "data": {
      "text/html": [
       "<div>\n",
       "<style>\n",
       "    .dataframe thead tr:only-child th {\n",
       "        text-align: right;\n",
       "    }\n",
       "\n",
       "    .dataframe thead th {\n",
       "        text-align: left;\n",
       "    }\n",
       "\n",
       "    .dataframe tbody tr th {\n",
       "        vertical-align: top;\n",
       "    }\n",
       "</style>\n",
       "<table border=\"1\" class=\"dataframe\">\n",
       "  <thead>\n",
       "    <tr style=\"text-align: right;\">\n",
       "      <th></th>\n",
       "      <th>commit</th>\n",
       "      <th>author_name</th>\n",
       "      <th>author_email</th>\n",
       "      <th>committer_name</th>\n",
       "      <th>authored_datetime</th>\n",
       "      <th>committed_datetime</th>\n",
       "      <th>summary</th>\n",
       "      <th>count</th>\n",
       "      <th>merge</th>\n",
       "      <th>parents</th>\n",
       "      <th>words_added</th>\n",
       "      <th>words_deleted</th>\n",
       "      <th>characters_added</th>\n",
       "      <th>characters_deleted</th>\n",
       "    </tr>\n",
       "  </thead>\n",
       "  <tbody>\n",
       "    <tr>\n",
       "      <th>436</th>\n",
       "      <td>2e721e0c9ee8314688581e0e4dd465222d867b01</td>\n",
       "      <td>Yifan Peng</td>\n",
       "      <td>yifan.peng@nih.gov</td>\n",
       "      <td>Anthony Gitter</td>\n",
       "      <td>2017-10-04 07:20:57-04:00</td>\n",
       "      <td>2017-10-04 06:20:57-05:00</td>\n",
       "      <td>Add ChestX-ray data link (#668) closes #666</td>\n",
       "      <td>437</td>\n",
       "      <td>0</td>\n",
       "      <td>6d95f407b414ee84c899150f7f9a4482e3c98fb5</td>\n",
       "      <td>13</td>\n",
       "      <td>2</td>\n",
       "      <td>167</td>\n",
       "      <td>13</td>\n",
       "    </tr>\n",
       "    <tr>\n",
       "      <th>437</th>\n",
       "      <td>d4c316393779a9248d924abae83bc672aafa39df</td>\n",
       "      <td>Yifan Peng</td>\n",
       "      <td>yifan.peng@nih.gov</td>\n",
       "      <td>Anthony Gitter</td>\n",
       "      <td>2017-10-04 14:34:28-04:00</td>\n",
       "      <td>2017-10-04 13:34:28-05:00</td>\n",
       "      <td>ChestX-ray dataset reference formatting (#669)...</td>\n",
       "      <td>438</td>\n",
       "      <td>0</td>\n",
       "      <td>2e721e0c9ee8314688581e0e4dd465222d867b01</td>\n",
       "      <td>0</td>\n",
       "      <td>0</td>\n",
       "      <td>0</td>\n",
       "      <td>0</td>\n",
       "    </tr>\n",
       "  </tbody>\n",
       "</table>\n",
       "</div>"
      ],
      "text/plain": [
       "                                       commit author_name        author_email  \\\n",
       "436  2e721e0c9ee8314688581e0e4dd465222d867b01  Yifan Peng  yifan.peng@nih.gov   \n",
       "437  d4c316393779a9248d924abae83bc672aafa39df  Yifan Peng  yifan.peng@nih.gov   \n",
       "\n",
       "     committer_name          authored_datetime         committed_datetime  \\\n",
       "436  Anthony Gitter  2017-10-04 07:20:57-04:00  2017-10-04 06:20:57-05:00   \n",
       "437  Anthony Gitter  2017-10-04 14:34:28-04:00  2017-10-04 13:34:28-05:00   \n",
       "\n",
       "                                               summary  count  merge  \\\n",
       "436        Add ChestX-ray data link (#668) closes #666    437      0   \n",
       "437  ChestX-ray dataset reference formatting (#669)...    438      0   \n",
       "\n",
       "                                      parents  words_added  words_deleted  \\\n",
       "436  6d95f407b414ee84c899150f7f9a4482e3c98fb5           13              2   \n",
       "437  2e721e0c9ee8314688581e0e4dd465222d867b01            0              0   \n",
       "\n",
       "     characters_added  characters_deleted  \n",
       "436               167                  13  \n",
       "437                 0                   0  "
      ]
     },
     "execution_count": 3,
     "metadata": {},
     "output_type": "execute_result"
    }
   ],
   "source": [
    "commit_df = pandas.read_table('commits.tsv')\n",
    "commit_df.tail(2)"
   ]
  },
  {
   "cell_type": "code",
   "execution_count": 4,
   "metadata": {},
   "outputs": [],
   "source": [
    "# State of the git repo (deep-review submodule)\n",
    "stats['commit'] = commit_df.commit.iloc[-1]"
   ]
  },
  {
   "cell_type": "code",
   "execution_count": 5,
   "metadata": {
    "collapsed": true
   },
   "outputs": [],
   "source": [
    "stats['total_commits'] = len(commit_df)"
   ]
  },
  {
   "cell_type": "code",
   "execution_count": 6,
   "metadata": {
    "collapsed": true
   },
   "outputs": [],
   "source": [
    "# Number of non-merge commits that modified the manuscript markdown source\n",
    "writing_commit_df = commit_df.query(\"(characters_added > 0 or characters_deleted > 0) and merge == 0\")\n",
    "stats['manuscript_commits'] = len(writing_commit_df)"
   ]
  },
  {
   "cell_type": "markdown",
   "metadata": {},
   "source": [
    "### Number of formal Deep Review authors"
   ]
  },
  {
   "cell_type": "code",
   "execution_count": 7,
   "metadata": {},
   "outputs": [],
   "source": [
    "author_df = pandas.read_table('deep-review/authors.tsv')\n",
    "stats['deep_review_authors'] = len(author_df)"
   ]
  },
  {
   "cell_type": "markdown",
   "metadata": {},
   "source": [
    "## GitHub repo stats"
   ]
  },
  {
   "cell_type": "code",
   "execution_count": 8,
   "metadata": {
    "collapsed": true
   },
   "outputs": [],
   "source": [
    "# https://developer.github.com/v3/repos/#get\n",
    "response = requests.get('https://api.github.com/repos/greenelab/deep-review')\n",
    "result = response.json()\n",
    "stats['github_stars'] = result['stargazers_count']\n",
    "stats['github_forks'] = result['forks_count']"
   ]
  },
  {
   "cell_type": "markdown",
   "metadata": {},
   "source": [
    "### Number of pull requests"
   ]
  },
  {
   "cell_type": "code",
   "execution_count": 9,
   "metadata": {
    "collapsed": true
   },
   "outputs": [],
   "source": [
    "def github_issue_search(query):\n",
    "    \"\"\"\n",
    "    Search issues and pull requests on GitHub.\n",
    "\n",
    "    https://developer.github.com/v3/search/#search-issues\n",
    "    https://help.github.com/articles/searching-issues-and-pull-requests/\n",
    "    \"\"\"\n",
    "    url = 'https://api.github.com/search/issues'\n",
    "    params = {\n",
    "        'q': query,\n",
    "        'sort': 'created',\n",
    "        'order': 'asc',\n",
    "    }\n",
    "    response = requests.get(url, params)\n",
    "    print(response.url)\n",
    "    assert response.status_code == 200\n",
    "    result = response.json()\n",
    "    assert not result['incomplete_results']\n",
    "    return result"
   ]
  },
  {
   "cell_type": "code",
   "execution_count": 10,
   "metadata": {},
   "outputs": [
    {
     "name": "stdout",
     "output_type": "stream",
     "text": [
      "https://api.github.com/search/issues?q=repo%3Agreenelab%2Fdeep-review+type%3Apr+is%3Amerged&sort=created&order=asc\n"
     ]
    }
   ],
   "source": [
    "# Merged PRs\n",
    "result = github_issue_search('repo:greenelab/deep-review type:pr is:merged')\n",
    "stats['merged_pull_requests'] = result['total_count']"
   ]
  },
  {
   "cell_type": "code",
   "execution_count": 11,
   "metadata": {},
   "outputs": [
    {
     "name": "stdout",
     "output_type": "stream",
     "text": [
      "https://api.github.com/search/issues?q=repo%3Agreenelab%2Fdeep-review+type%3Apr+is%3Aunmerged+state%3Aclosed&sort=created&order=asc\n"
     ]
    }
   ],
   "source": [
    "# Closed PRs that were not merged\n",
    "result = github_issue_search('repo:greenelab/deep-review type:pr is:unmerged state:closed')\n",
    "stats['declined_pull_requests'] = result['total_count']"
   ]
  },
  {
   "cell_type": "code",
   "execution_count": 12,
   "metadata": {},
   "outputs": [
    {
     "name": "stdout",
     "output_type": "stream",
     "text": [
      "https://api.github.com/search/issues?q=repo%3Agreenelab%2Fdeep-review+type%3Apr+state%3Aopen&sort=created&order=asc\n"
     ]
    }
   ],
   "source": [
    "# Open PRs\n",
    "result = github_issue_search('repo:greenelab/deep-review type:pr state:open')\n",
    "stats['open_pull_requests'] = result['total_count']"
   ]
  },
  {
   "cell_type": "code",
   "execution_count": 13,
   "metadata": {},
   "outputs": [
    {
     "name": "stdout",
     "output_type": "stream",
     "text": [
      "https://api.github.com/search/issues?q=repo%3Agreenelab%2Fdeep-review+type%3Aissue+state%3Aopen&sort=created&order=asc\n"
     ]
    }
   ],
   "source": [
    "# Open Issues\n",
    "result = github_issue_search('repo:greenelab/deep-review type:issue state:open')\n",
    "stats['open_issues'] = result['total_count']"
   ]
  },
  {
   "cell_type": "code",
   "execution_count": 14,
   "metadata": {},
   "outputs": [
    {
     "name": "stdout",
     "output_type": "stream",
     "text": [
      "https://api.github.com/search/issues?q=repo%3Agreenelab%2Fdeep-review+type%3Aissue+state%3Aclosed&sort=created&order=asc\n"
     ]
    }
   ],
   "source": [
    "# Closed Issues\n",
    "result = github_issue_search('repo:greenelab/deep-review type:issue state:closed')\n",
    "stats['closed_issues'] = result['total_count']"
   ]
  },
  {
   "cell_type": "markdown",
   "metadata": {},
   "source": [
    "## Write stats"
   ]
  },
  {
   "cell_type": "code",
   "execution_count": 15,
   "metadata": {},
   "outputs": [
    {
     "name": "stdout",
     "output_type": "stream",
     "text": [
      "{\n",
      "  \"creation_time_utc\": \"2017-10-30T20:27:57.162833\",\n",
      "  \"commit\": \"d4c316393779a9248d924abae83bc672aafa39df\",\n",
      "  \"total_commits\": 438,\n",
      "  \"manuscript_commits\": 253,\n",
      "  \"deep_review_authors\": 27,\n",
      "  \"github_stars\": 344,\n",
      "  \"github_forks\": 113,\n",
      "  \"merged_pull_requests\": 225,\n",
      "  \"declined_pull_requests\": 19,\n",
      "  \"open_pull_requests\": 10,\n",
      "  \"open_issues\": 333,\n",
      "  \"closed_issues\": 88\n",
      "}\n"
     ]
    }
   ],
   "source": [
    "stats_str = json.dumps(stats, indent=2)\n",
    "print(stats_str)"
   ]
  },
  {
   "cell_type": "code",
   "execution_count": 16,
   "metadata": {},
   "outputs": [
    {
     "data": {
      "text/plain": [
       "375"
      ]
     },
     "execution_count": 16,
     "metadata": {},
     "output_type": "execute_result"
    }
   ],
   "source": [
    "path = pathlib.Path('deep-review-stats.json')\n",
    "path.write_text(stats_str)"
   ]
  }
 ],
 "metadata": {
  "kernelspec": {
   "display_name": "Python [conda env:contrib-viz]",
   "language": "python",
   "name": "conda-env-contrib-viz-py"
  },
  "language_info": {
   "codemirror_mode": {
    "name": "ipython",
    "version": 3
   },
   "file_extension": ".py",
   "mimetype": "text/x-python",
   "name": "python",
   "nbconvert_exporter": "python",
   "pygments_lexer": "ipython3",
   "version": "3.6.3"
  }
 },
 "nbformat": 4,
 "nbformat_minor": 2
}
