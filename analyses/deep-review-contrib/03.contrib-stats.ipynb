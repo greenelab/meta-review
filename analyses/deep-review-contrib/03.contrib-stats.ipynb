{
 "cells": [
  {
   "cell_type": "markdown",
   "metadata": {},
   "source": [
    "# Generate Deep Review stats for templated use in the Meta Review\n",
    "\n",
    "Note that some statistics are generated from the deep-review git submodule, and correspond to the version specified by `commit`. Other statistics are generated from the GitHub API and reflect the repositories status at runtime, as specified by `creation_time_utc`."
   ]
  },
  {
   "cell_type": "code",
   "execution_count": 1,
   "metadata": {},
   "outputs": [],
   "source": [
    "import collections\n",
    "import datetime\n",
    "import json\n",
    "import pathlib\n",
    "\n",
    "import pandas\n",
    "import requests\n",
    "import yaml"
   ]
  },
  {
   "cell_type": "code",
   "execution_count": 2,
   "metadata": {},
   "outputs": [],
   "source": [
    "stats = collections.OrderedDict()\n",
    "stats['creation_time_utc'] = datetime.datetime.utcnow().isoformat()"
   ]
  },
  {
   "cell_type": "markdown",
   "metadata": {},
   "source": [
    "## Deep Review git repository stats"
   ]
  },
  {
   "cell_type": "code",
   "execution_count": 3,
   "metadata": {},
   "outputs": [
    {
     "data": {
      "text/html": [
       "<div>\n",
       "<style>\n",
       "    .dataframe thead tr:only-child th {\n",
       "        text-align: right;\n",
       "    }\n",
       "\n",
       "    .dataframe thead th {\n",
       "        text-align: left;\n",
       "    }\n",
       "\n",
       "    .dataframe tbody tr th {\n",
       "        vertical-align: top;\n",
       "    }\n",
       "</style>\n",
       "<table border=\"1\" class=\"dataframe\">\n",
       "  <thead>\n",
       "    <tr style=\"text-align: right;\">\n",
       "      <th></th>\n",
       "      <th>commit</th>\n",
       "      <th>author_name</th>\n",
       "      <th>author_email</th>\n",
       "      <th>committer_name</th>\n",
       "      <th>authored_datetime</th>\n",
       "      <th>committed_datetime</th>\n",
       "      <th>summary</th>\n",
       "      <th>count</th>\n",
       "      <th>merge</th>\n",
       "      <th>parents</th>\n",
       "      <th>words_added</th>\n",
       "      <th>words_deleted</th>\n",
       "      <th>characters_added</th>\n",
       "      <th>characters_deleted</th>\n",
       "    </tr>\n",
       "  </thead>\n",
       "  <tbody>\n",
       "    <tr>\n",
       "      <th>726</th>\n",
       "      <td>57563a3036ada1eec12e6071bce0fac8f85613ad</td>\n",
       "      <td>Anthony Gitter</td>\n",
       "      <td>agitter@users.noreply.github.com</td>\n",
       "      <td>Casey Greene</td>\n",
       "      <td>2018-01-20 09:44:58-06:00</td>\n",
       "      <td>2018-01-20 10:44:58-05:00</td>\n",
       "      <td>Readme status update (#811)</td>\n",
       "      <td>727</td>\n",
       "      <td>0</td>\n",
       "      <td>a01dd71f8603412b1cd80fb4415ce579999aaf8f</td>\n",
       "      <td>0</td>\n",
       "      <td>0</td>\n",
       "      <td>0</td>\n",
       "      <td>0</td>\n",
       "    </tr>\n",
       "    <tr>\n",
       "      <th>727</th>\n",
       "      <td>1db0c13e0d5828d325ac8e1eba523b77bc33a7d1</td>\n",
       "      <td>Michael Hoffman</td>\n",
       "      <td>michaelmhoffman@users.noreply.github.com</td>\n",
       "      <td>Anthony Gitter</td>\n",
       "      <td>2018-01-23 08:30:20-08:00</td>\n",
       "      <td>2018-01-23 10:30:20-06:00</td>\n",
       "      <td>Fix non-semantic newlines for `e.g. `, `i.e. ...</td>\n",
       "      <td>728</td>\n",
       "      <td>0</td>\n",
       "      <td>57563a3036ada1eec12e6071bce0fac8f85613ad</td>\n",
       "      <td>80</td>\n",
       "      <td>0</td>\n",
       "      <td>610</td>\n",
       "      <td>0</td>\n",
       "    </tr>\n",
       "  </tbody>\n",
       "</table>\n",
       "</div>"
      ],
      "text/plain": [
       "                                       commit      author_name  \\\n",
       "726  57563a3036ada1eec12e6071bce0fac8f85613ad   Anthony Gitter   \n",
       "727  1db0c13e0d5828d325ac8e1eba523b77bc33a7d1  Michael Hoffman   \n",
       "\n",
       "                                 author_email  committer_name  \\\n",
       "726          agitter@users.noreply.github.com    Casey Greene   \n",
       "727  michaelmhoffman@users.noreply.github.com  Anthony Gitter   \n",
       "\n",
       "             authored_datetime         committed_datetime  \\\n",
       "726  2018-01-20 09:44:58-06:00  2018-01-20 10:44:58-05:00   \n",
       "727  2018-01-23 08:30:20-08:00  2018-01-23 10:30:20-06:00   \n",
       "\n",
       "                                               summary  count  merge  \\\n",
       "726                        Readme status update (#811)    727      0   \n",
       "727   Fix non-semantic newlines for `e.g. `, `i.e. ...    728      0   \n",
       "\n",
       "                                      parents  words_added  words_deleted  \\\n",
       "726  a01dd71f8603412b1cd80fb4415ce579999aaf8f            0              0   \n",
       "727  57563a3036ada1eec12e6071bce0fac8f85613ad           80              0   \n",
       "\n",
       "     characters_added  characters_deleted  \n",
       "726                 0                   0  \n",
       "727               610                   0  "
      ]
     },
     "execution_count": 3,
     "metadata": {},
     "output_type": "execute_result"
    }
   ],
   "source": [
    "commit_df = pandas.read_table('commits.tsv')\n",
    "commit_df.tail(2)"
   ]
  },
  {
   "cell_type": "code",
   "execution_count": 4,
   "metadata": {},
   "outputs": [],
   "source": [
    "# State of the git repo (deep-review submodule)\n",
    "stats['commit'] = commit_df.commit.iloc[-1]"
   ]
  },
  {
   "cell_type": "code",
   "execution_count": 5,
   "metadata": {},
   "outputs": [],
   "source": [
    "stats['total_commits'] = len(commit_df)"
   ]
  },
  {
   "cell_type": "code",
   "execution_count": 6,
   "metadata": {},
   "outputs": [],
   "source": [
    "# Number of non-merge commits that modified the manuscript markdown source\n",
    "writing_commit_df = commit_df.query(\"(characters_added > 0 or characters_deleted > 0) and merge == 0\")\n",
    "stats['manuscript_commits'] = len(writing_commit_df)"
   ]
  },
  {
   "cell_type": "markdown",
   "metadata": {},
   "source": [
    "### Number of formal Deep Review authors"
   ]
  },
  {
   "cell_type": "code",
   "execution_count": 7,
   "metadata": {},
   "outputs": [],
   "source": [
    "path = pathlib.Path('deep-review/content/metadata.yaml')\n",
    "with path.open() as read_file:\n",
    "    metadata = yaml.load(read_file)"
   ]
  },
  {
   "cell_type": "code",
   "execution_count": 8,
   "metadata": {},
   "outputs": [],
   "source": [
    "authors = metadata['author_info']\n",
    "stats['deep_review_authors'] = len(authors)"
   ]
  },
  {
   "cell_type": "markdown",
   "metadata": {},
   "source": [
    "Authors who first contributed after May 28, 2017 ([date](https://github.com/greenelab/meta-review/issues/23#issuecomment-338833911) of first submission) but before January 19, 2017 ([date](https://github.com/greenelab/deep-review/issues/810#issue-290029515) of resubmission). Note that author names have not been standardized here."
   ]
  },
  {
   "cell_type": "code",
   "execution_count": 9,
   "metadata": {},
   "outputs": [
    {
     "data": {
      "text/plain": [
       "{'Amr Alexandari',\n",
       " 'Austin Huang',\n",
       " 'Christopher Lavender',\n",
       " 'David Slochower',\n",
       " 'Michael Hoffman',\n",
       " 'Michael Zietz',\n",
       " 'Ruibang Luo',\n",
       " 'Simina M. Boca',\n",
       " 'Srini Turaga',\n",
       " 'Venkat Malladi',\n",
       " 'Yanjun Qi',\n",
       " 'Zhiyong Lu'}"
      ]
     },
     "execution_count": 9,
     "metadata": {},
     "output_type": "execute_result"
    }
   ],
   "source": [
    "pre_submission_authors = set(writing_commit_df.query(\"authored_datetime <= '2017-05-28'\").author_name)\n",
    "post_submission_authors = set(writing_commit_df.query(\"'2017-05-28' < authored_datetime <= '2018-01-19'\").author_name)\n",
    "new_authors = post_submission_authors - pre_submission_authors\n",
    "new_authors"
   ]
  },
  {
   "cell_type": "code",
   "execution_count": 10,
   "metadata": {},
   "outputs": [],
   "source": [
    "stats['deep_review_post_submission_authors'] = len(new_authors)"
   ]
  },
  {
   "cell_type": "markdown",
   "metadata": {},
   "source": [
    "## GitHub repo stats"
   ]
  },
  {
   "cell_type": "code",
   "execution_count": 11,
   "metadata": {},
   "outputs": [],
   "source": [
    "# https://developer.github.com/v3/repos/#get\n",
    "response = requests.get('https://api.github.com/repos/greenelab/deep-review')\n",
    "result = response.json()\n",
    "stats['github_stars'] = result['stargazers_count']\n",
    "stats['github_forks'] = result['forks_count']"
   ]
  },
  {
   "cell_type": "markdown",
   "metadata": {},
   "source": [
    "### Number of pull requests"
   ]
  },
  {
   "cell_type": "code",
   "execution_count": 12,
   "metadata": {},
   "outputs": [],
   "source": [
    "def github_issue_search(query):\n",
    "    \"\"\"\n",
    "    Search issues and pull requests on GitHub.\n",
    "\n",
    "    https://developer.github.com/v3/search/#search-issues\n",
    "    https://help.github.com/articles/searching-issues-and-pull-requests/\n",
    "    \"\"\"\n",
    "    url = 'https://api.github.com/search/issues'\n",
    "    params = {\n",
    "        'q': query,\n",
    "        'sort': 'created',\n",
    "        'order': 'asc',\n",
    "    }\n",
    "    response = requests.get(url, params)\n",
    "    print(response.url)\n",
    "    assert response.status_code == 200\n",
    "    result = response.json()\n",
    "    assert not result['incomplete_results']\n",
    "    return result"
   ]
  },
  {
   "cell_type": "code",
   "execution_count": 13,
   "metadata": {},
   "outputs": [
    {
     "name": "stdout",
     "output_type": "stream",
     "text": [
      "https://api.github.com/search/issues?q=repo%3Agreenelab%2Fdeep-review+type%3Apr+is%3Amerged&sort=created&order=asc\n"
     ]
    }
   ],
   "source": [
    "# Merged PRs\n",
    "result = github_issue_search('repo:greenelab/deep-review type:pr is:merged')\n",
    "stats['merged_pull_requests'] = result['total_count']"
   ]
  },
  {
   "cell_type": "code",
   "execution_count": 14,
   "metadata": {},
   "outputs": [
    {
     "name": "stdout",
     "output_type": "stream",
     "text": [
      "https://api.github.com/search/issues?q=repo%3Agreenelab%2Fdeep-review+type%3Apr+is%3Aunmerged+state%3Aclosed&sort=created&order=asc\n"
     ]
    }
   ],
   "source": [
    "# Closed PRs that were not merged\n",
    "result = github_issue_search('repo:greenelab/deep-review type:pr is:unmerged state:closed')\n",
    "stats['declined_pull_requests'] = result['total_count']"
   ]
  },
  {
   "cell_type": "code",
   "execution_count": 15,
   "metadata": {},
   "outputs": [
    {
     "name": "stdout",
     "output_type": "stream",
     "text": [
      "https://api.github.com/search/issues?q=repo%3Agreenelab%2Fdeep-review+type%3Apr+state%3Aopen&sort=created&order=asc\n"
     ]
    }
   ],
   "source": [
    "# Open PRs\n",
    "result = github_issue_search('repo:greenelab/deep-review type:pr state:open')\n",
    "stats['open_pull_requests'] = result['total_count']"
   ]
  },
  {
   "cell_type": "code",
   "execution_count": 16,
   "metadata": {},
   "outputs": [
    {
     "name": "stdout",
     "output_type": "stream",
     "text": [
      "https://api.github.com/search/issues?q=repo%3Agreenelab%2Fdeep-review+type%3Aissue+state%3Aopen&sort=created&order=asc\n"
     ]
    }
   ],
   "source": [
    "# Open Issues\n",
    "result = github_issue_search('repo:greenelab/deep-review type:issue state:open')\n",
    "stats['open_issues'] = result['total_count']"
   ]
  },
  {
   "cell_type": "code",
   "execution_count": 17,
   "metadata": {},
   "outputs": [
    {
     "name": "stdout",
     "output_type": "stream",
     "text": [
      "https://api.github.com/search/issues?q=repo%3Agreenelab%2Fdeep-review+type%3Aissue+state%3Aclosed&sort=created&order=asc\n"
     ]
    }
   ],
   "source": [
    "# Closed Issues\n",
    "result = github_issue_search('repo:greenelab/deep-review type:issue state:closed')\n",
    "stats['closed_issues'] = result['total_count']"
   ]
  },
  {
   "cell_type": "markdown",
   "metadata": {},
   "source": [
    "## Write stats"
   ]
  },
  {
   "cell_type": "code",
   "execution_count": 18,
   "metadata": {},
   "outputs": [
    {
     "name": "stdout",
     "output_type": "stream",
     "text": [
      "{\n",
      "  \"creation_time_utc\": \"2018-01-24T16:26:37.824623\",\n",
      "  \"commit\": \"1db0c13e0d5828d325ac8e1eba523b77bc33a7d1\",\n",
      "  \"total_commits\": 728,\n",
      "  \"manuscript_commits\": 336,\n",
      "  \"deep_review_authors\": 36,\n",
      "  \"deep_review_post_submission_authors\": 12,\n",
      "  \"github_stars\": 437,\n",
      "  \"github_forks\": 126,\n",
      "  \"merged_pull_requests\": 297,\n",
      "  \"declined_pull_requests\": 22,\n",
      "  \"open_pull_requests\": 1,\n",
      "  \"open_issues\": 359,\n",
      "  \"closed_issues\": 134\n",
      "}\n"
     ]
    }
   ],
   "source": [
    "stats_str = json.dumps(stats, indent=2)\n",
    "print(stats_str)"
   ]
  },
  {
   "cell_type": "code",
   "execution_count": 19,
   "metadata": {},
   "outputs": [
    {
     "data": {
      "text/plain": [
       "420"
      ]
     },
     "execution_count": 19,
     "metadata": {},
     "output_type": "execute_result"
    }
   ],
   "source": [
    "path = pathlib.Path('deep-review-stats.json')\n",
    "path.write_text(stats_str)"
   ]
  }
 ],
 "metadata": {
  "kernelspec": {
   "display_name": "Python [conda env:contrib-viz]",
   "language": "python",
   "name": "conda-env-contrib-viz-py"
  },
  "language_info": {
   "codemirror_mode": {
    "name": "ipython",
    "version": 3
   },
   "file_extension": ".py",
   "mimetype": "text/x-python",
   "name": "python",
   "nbconvert_exporter": "python",
   "pygments_lexer": "ipython3",
   "version": "3.6.3"
  }
 },
 "nbformat": 4,
 "nbformat_minor": 2
}
